{
 "cells": [
  {
   "cell_type": "code",
   "execution_count": 1,
   "metadata": {
    "collapsed": true
   },
   "outputs": [],
   "source": [
    "# Dependencies and boilerplate\n",
    "import pandas as pd\n",
    "import numpy as np"
   ]
  },
  {
   "cell_type": "code",
   "execution_count": 2,
   "metadata": {
    "collapsed": true
   },
   "outputs": [],
   "source": [
    "# Path of the CSV file\n",
    "csvfile1 = \"Resources/hawaii_measurements.csv\"\n",
    "csvfile2 = \"Resources/hawaii_stations.csv\""
   ]
  },
  {
   "cell_type": "code",
   "execution_count": 3,
   "metadata": {
    "collapsed": true
   },
   "outputs": [],
   "source": [
    "# Read CSV file into a pandas DataFrame\n",
    "df1 = pd.read_csv(csvfile1, dtype=object)\n",
    "df2 = pd.read_csv(csvfile2, dtype=object)"
   ]
  },
  {
   "cell_type": "code",
   "execution_count": 13,
   "metadata": {},
   "outputs": [
    {
     "name": "stdout",
     "output_type": "stream",
     "text": [
      "       station        date  prcp tobs\n",
      "0  USC00519397  2010-01-01  0.08   65\n",
      "1  USC00519397  2010-01-02     0   63\n",
      "2  USC00519397  2010-01-03     0   74\n",
      "3  USC00519397  2010-01-04     0   76\n",
      "4  USC00519397  2010-01-07  0.06   70\n",
      "       station                                    name latitude  longitude  \\\n",
      "0  USC00519397                    WAIKIKI 717.2, HI US  21.2716  -157.8168   \n",
      "1  USC00513117                    KANEOHE 838.1, HI US  21.4234  -157.8015   \n",
      "2  USC00514830  KUALOA RANCH HEADQUARTERS 886.9, HI US  21.5213  -157.8374   \n",
      "3  USC00517948                       PEARL CITY, HI US  21.3934  -157.9751   \n",
      "4  USC00518838              UPPER WAHIAWA 874.3, HI US  21.4992  -158.0111   \n",
      "\n",
      "  elevation  \n",
      "0         3  \n",
      "1      14.6  \n",
      "2         7  \n",
      "3      11.9  \n",
      "4     306.6  \n"
     ]
    }
   ],
   "source": [
    "# Preview DataFrame\n",
    "# Note that some rows are missing data\n",
    "print (df1.head())\n",
    "print (df2.head())"
   ]
  },
  {
   "cell_type": "code",
   "execution_count": 10,
   "metadata": {},
   "outputs": [
    {
     "name": "stdout",
     "output_type": "stream",
     "text": [
      "       station        date  prcp tobs\n",
      "0  USC00519397  2010-01-01  0.08   65\n",
      "1  USC00519397  2010-01-02     0   63\n",
      "2  USC00519397  2010-01-03     0   74\n",
      "3  USC00519397  2010-01-04     0   76\n",
      "4  USC00519397  2010-01-07  0.06   70\n",
      "       station                                    name latitude  longitude  \\\n",
      "0  USC00519397                    WAIKIKI 717.2, HI US  21.2716  -157.8168   \n",
      "1  USC00513117                    KANEOHE 838.1, HI US  21.4234  -157.8015   \n",
      "2  USC00514830  KUALOA RANCH HEADQUARTERS 886.9, HI US  21.5213  -157.8374   \n",
      "3  USC00517948                       PEARL CITY, HI US  21.3934  -157.9751   \n",
      "4  USC00518838              UPPER WAHIAWA 874.3, HI US  21.4992  -158.0111   \n",
      "\n",
      "  elevation  \n",
      "0         3  \n",
      "1      14.6  \n",
      "2         7  \n",
      "3      11.9  \n",
      "4     306.6  \n"
     ]
    }
   ],
   "source": [
    "# Use `dropna` to drop any rows where there is missing data\n",
    "df1 = df1.dropna(axis=0)\n",
    "df1 = df1.reset_index(drop=True)\n",
    "df2 = df2.dropna(axis=0)\n",
    "df2= df2.reset_index(drop=True)\n",
    "\n",
    "print(df1.head())\n",
    "print(df2.head())"
   ]
  },
  {
   "cell_type": "code",
   "execution_count": 14,
   "metadata": {},
   "outputs": [],
   "source": [
    "# Save the cleaned data to a file called `hawaii_measurements_clean.csv` and hawaii_stations_clean.csv\n",
    "new_csv1 = \"Resources/hawaii_measurements_clean.csv\"\n",
    "new_csv2 = \"Resources/hawaii_stations_clean.csv\"\n",
    "df1.to_csv(new_csv1, index=False)\n",
    "df2.to_csv(new_csv2, index=False)"
   ]
  }
 ],
 "metadata": {
  "kernelspec": {
   "display_name": "Python [conda env:PythonData]",
   "language": "python",
   "name": "conda-env-PythonData-py"
  },
  "language_info": {
   "codemirror_mode": {
    "name": "ipython",
    "version": 3
   },
   "file_extension": ".py",
   "mimetype": "text/x-python",
   "name": "python",
   "nbconvert_exporter": "python",
   "pygments_lexer": "ipython3",
   "version": "3.6.3"
  }
 },
 "nbformat": 4,
 "nbformat_minor": 2
}
